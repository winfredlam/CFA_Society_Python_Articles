{
  "cells": [
    {
      "cell_type": "markdown",
      "id": "da9967eb-dd3d-4897-8770-44eb9a0cc0d2",
      "metadata": {
        "id": "da9967eb-dd3d-4897-8770-44eb9a0cc0d2"
      },
      "source": [
        "# __Hashing__\n",
        "\n",
        "Winfred Lam, CFA\n",
        "\n",
        "In a previous edition of The Analyst, we provided a high-level introduction to Object-Oriented Programming (OOP), which forms the backbone of the Python programming language. Having covered the basics of OOP and the concept of an \"object\", we will move onto a more advanced topic - Hashing, a key concept that goes hand in hand with objects in Python (and indeed many other OOP-centric languages). We then explore the concept of Equality in Python.\n",
        "\n",
        "It would be challenging to go through hashing in Python without also referencing data structures. As such, the article will broadly cover:\n",
        "\n",
        "1.   Data Structures\n",
        "2.   Hashing\n",
        "3.   Equality\n",
        "\n",
        "Compared to Introduction To Object-Oriented Programming In Python, this write-up is a significant step-up in difficulty and assumes basic comfort with Python code, OOP and data structures. As before, explanation of programming concepts will be supported with relatable examples from the financial services industry."
      ]
    },
    {
      "cell_type": "markdown",
      "id": "de41b14b-2251-4368-90f7-0cf8128575f0",
      "metadata": {
        "id": "de41b14b-2251-4368-90f7-0cf8128575f0"
      },
      "source": [
        "__Data Structures in Python__\n",
        "\n",
        "As covered in Introduction To Object-Oriented Programming In Python, users can create objects from their self-defined classes. More often than not, however, we will write Python code using more ubiquitous, built-in data structures such as integers, strings, lists etc. These variables are also objects. In fact, every data structure in Python is an object. \n",
        "\n",
        "There are two main categories of data structures in Python (and indeed, computer science): primitive and non-primitive. Primitive data structures (also called data types) are, for lack of a better word, simpler. Non-primitive data structures are more advanced, as it is a collection of data types. They can store primitive data types, but can also store other non-primitive data structures. There are, however, rules for storing the latter, which will be the centrepiece of this article. \n",
        "\n",
        "In Python, there are four primitive data types:\n",
        "\n",
        "\n",
        "\n",
        "1.   Integers: whole numbers from negtive infinity to infinity, i.e. 1,2, 10, \n",
        "2.   Float: floating point number, usually ending with decimal figures, i.e. 1.2, 2.0, 10.3333, 50000.123\n",
        "3.   Strings: a collection of alphabets. In python, a string is create by enclosing some sequence of alphabets with '' or \"\", i.e. 'python', 'finance', \"programming\"\n",
        "4.   Boolean: only takes in the values True and False, interchangeable with the integers 1 and 0, essential to conditional and comparison expressions\n",
        "\n",
        "On the other hand, we have non-primitive data structures:\n",
        "\n",
        "\n",
        "1.   Array: stores a collection of homogeneous data types\n",
        "2.   List: stores a collection of heterogeneous data structures \n",
        "3.   Dictionary: stores data in key:value pairs. Also known as Map.\n",
        "4.   Set: stores a collection of unordered, nonduplicate (unique) objects\n",
        "5.   Tuple: an immutable (unchangeable) sequence of objects. More on this later.\n",
        "\n",
        "Our discussion is mostly concerned with non-primitive data structures. Typically, when people talk about arrays in Python, they are really referring to Lists, as arrays are not very popular in Python relative to other languages like Java, C, C++. While there are important fundamental differences between arrays and lists, that will not be the topic of discussion here. The focus will be on List, Dictionary, Set and Tuple."
      ]
    },
    {
      "cell_type": "markdown",
      "id": "086d8a39-1505-482a-a040-6864f4b57c17",
      "metadata": {
        "id": "086d8a39-1505-482a-a040-6864f4b57c17"
      },
      "source": [
        "All of the data structures List, Dictionary, Set and Tuple can store primitive data structures. Non-primitive data structures can also store objects from user-defined classes. Bringing back the \"Securities\" example from Introduction to Object-Oriented Programming in Python, let us define a Securities class, instantiate several Securities objects, and add them to the aforementioned data structures. We are also __overriding__ the __str__() and __repr__() methods so that the objects will show the \"Name\" of each Security object when we invoke the __print()__ method. (As always, the numbers used below are hypothetical and do not represent those of the securities actually trading on the stock exchange)"
      ]
    },
    {
      "cell_type": "code",
      "execution_count": null,
      "id": "2bb85279-2299-4384-b694-c0fa498d35c0",
      "metadata": {
        "id": "2bb85279-2299-4384-b694-c0fa498d35c0"
      },
      "outputs": [],
      "source": [
        "class Security(object):\n",
        "    def __init__(self, name, ticker, price, shares_outstanding):\n",
        "        self.name = name\n",
        "        self.ticker = ticker\n",
        "        self.price = price\n",
        "        self.shares_outstanding = shares_outstanding\n",
        "    \n",
        "    def __str__(self):\n",
        "        return self.name\n",
        "    \n",
        "    def __repr__(self):\n",
        "        return self.name\n",
        "\n",
        "msft_stock = Security('Microsoft Corp', 'MSFT US Equity', 300, 20000000)\n",
        "apple_stock = Security('Apple Inc', 'AAPL US Equity', 150, 2000000)\n",
        "zsp_etf = Security('BMO S&P 500 Index ETF', 'ZSP CN Equity', 45, 100000)"
      ]
    },
    {
      "cell_type": "code",
      "execution_count": null,
      "id": "5bbf86b7-4eab-46b3-afcb-2f6ee0bf5e2d",
      "metadata": {
        "colab": {
          "base_uri": "https://localhost:8080/"
        },
        "id": "5bbf86b7-4eab-46b3-afcb-2f6ee0bf5e2d",
        "outputId": "2e282ca2-7e2b-4447-d95a-d2aef8e49a0b"
      },
      "outputs": [
        {
          "output_type": "stream",
          "name": "stdout",
          "text": [
            "Microsoft Corp\n",
            "Apple Inc\n",
            "BMO S&P 500 Index ETF\n"
          ]
        }
      ],
      "source": [
        "# Creating a list with two securities in them\n",
        "# Then adding another one subsequently\n",
        "\n",
        "security_list = [msft_stock, apple_stock]\n",
        "security_list.append(zsp_etf)\n",
        "\n",
        "# Printing. Notice that the ordering is same as the order in which they were added.\n",
        "for security in security_list:\n",
        "    print(security)"
      ]
    },
    {
      "cell_type": "code",
      "execution_count": null,
      "id": "8fd2d93d-5131-4aba-834a-0859cac442b8",
      "metadata": {
        "colab": {
          "base_uri": "https://localhost:8080/"
        },
        "id": "8fd2d93d-5131-4aba-834a-0859cac442b8",
        "outputId": "bf97f9a9-0eae-4898-b731-f71498d386e4"
      },
      "outputs": [
        {
          "output_type": "stream",
          "name": "stdout",
          "text": [
            "Apple Inc\n",
            "BMO S&P 500 Index ETF\n",
            "Microsoft Corp\n"
          ]
        }
      ],
      "source": [
        "#Adding the securities to a set\n",
        "security_set = set()\n",
        "\n",
        "for element in security_list:\n",
        "    security_set.add(element)\n",
        "\n",
        "# Notice that ordering is not the same for the set compared the list, because a set is unordered.\n",
        "for security in security_set:\n",
        "    print(security)"
      ]
    },
    {
      "cell_type": "code",
      "execution_count": null,
      "id": "5f2675fd-0ccf-47ca-b3cc-d167e4fca630",
      "metadata": {
        "colab": {
          "base_uri": "https://localhost:8080/"
        },
        "id": "5f2675fd-0ccf-47ca-b3cc-d167e4fca630",
        "outputId": "5730d3fa-5063-4bc6-f0fa-d1e76c968d8a"
      },
      "outputs": [
        {
          "output_type": "stream",
          "name": "stdout",
          "text": [
            "{'Redmond': Microsoft Corp, 'Cupertino': Apple Inc, 'Toronto': BMO S&P 500 Index ETF}\n",
            "BMO S&P 500 Index ETF\n"
          ]
        }
      ],
      "source": [
        "#Adding securities to a dictionary. \n",
        "#The curly brackets {} indicate that security_headquarters is a dictionary.\n",
        "#Suppose we want to map the city location of the headquarters of each company to its stock\n",
        "\n",
        "security_headquarters = {'Redmond': msft_stock,\n",
        "                       'Cupertino': apple_stock,\n",
        "                       'Toronto': zsp_etf}\n",
        "\n",
        "print(security_headquarters)\n",
        "print(security_headquarters['Toronto'])"
      ]
    },
    {
      "cell_type": "code",
      "execution_count": null,
      "id": "4dcfd657-8348-4d8f-88bd-ea550b624a66",
      "metadata": {
        "colab": {
          "base_uri": "https://localhost:8080/"
        },
        "id": "4dcfd657-8348-4d8f-88bd-ea550b624a66",
        "outputId": "254bb9ab-480e-4bcb-ce42-77c71c4117ea"
      },
      "outputs": [
        {
          "output_type": "stream",
          "name": "stdout",
          "text": [
            "{'Redmond': Microsoft Corp, 'Cupertino': Apple Inc, 'Toronto': 'cash'}\n",
            "cash\n"
          ]
        }
      ],
      "source": [
        "#If we have more than one key added to a dictionary, it will simply overwrite the prior entry\n",
        "#In this case, 'cash', a string, has replaced zsp_etf\n",
        "\n",
        "security_headquarters['Toronto'] = 'cash'\n",
        "print(security_headquarters)\n",
        "print(security_headquarters['Toronto'])"
      ]
    },
    {
      "cell_type": "code",
      "execution_count": null,
      "id": "4f9de211-b9dc-4ed7-918d-8c0ef61d33e5",
      "metadata": {
        "colab": {
          "base_uri": "https://localhost:8080/"
        },
        "id": "4f9de211-b9dc-4ed7-918d-8c0ef61d33e5",
        "outputId": "e4d85aed-3bb9-4ba4-d882-f9e1e80193ea"
      },
      "outputs": [
        {
          "output_type": "stream",
          "name": "stdout",
          "text": [
            "{'Redmond': Microsoft Corp, 'Cupertino': Apple Inc, 'Toronto': 'cash', BMO S&P 500 Index ETF: Apple Inc}\n"
          ]
        }
      ],
      "source": [
        "#We can also use the custom objects as key, although in this case it would not make a lot of sense for our dictionary!\n",
        "\n",
        "security_headquarters[zsp_etf] = apple_stock\n",
        "print(security_headquarters)"
      ]
    },
    {
      "cell_type": "markdown",
      "id": "0fd49c1f-4988-4e8b-8f56-9c0f773f63e8",
      "metadata": {
        "id": "0fd49c1f-4988-4e8b-8f56-9c0f773f63e8"
      },
      "source": [
        "__The Unhashable TypeError__\n",
        "\n",
        "What about if we tried using a list of locations as a dictionary key for some custom ETF? Python will give us a TypeError saying the list is \"unhashable\":"
      ]
    },
    {
      "cell_type": "code",
      "execution_count": null,
      "id": "6f49ea59-2fc4-4c1e-9654-46eff87f2cc7",
      "metadata": {
        "colab": {
          "base_uri": "https://localhost:8080/",
          "height": 201
        },
        "id": "6f49ea59-2fc4-4c1e-9654-46eff87f2cc7",
        "outputId": "931aff94-b2d2-4463-f406-da56f1d0c81c"
      },
      "outputs": [
        {
          "output_type": "error",
          "ename": "TypeError",
          "evalue": "ignored",
          "traceback": [
            "\u001b[0;31m---------------------------------------------------------------------------\u001b[0m",
            "\u001b[0;31mTypeError\u001b[0m                                 Traceback (most recent call last)",
            "\u001b[0;32m<ipython-input-7-aece259ba1b7>\u001b[0m in \u001b[0;36m<module>\u001b[0;34m\u001b[0m\n\u001b[1;32m      4\u001b[0m \u001b[0mlocations_list\u001b[0m \u001b[0;34m=\u001b[0m \u001b[0;34m[\u001b[0m\u001b[0;34m'Redmond'\u001b[0m\u001b[0;34m,\u001b[0m\u001b[0;34m'Cuptertino'\u001b[0m\u001b[0;34m,\u001b[0m\u001b[0;34m'Toronto'\u001b[0m\u001b[0;34m]\u001b[0m\u001b[0;34m\u001b[0m\u001b[0;34m\u001b[0m\u001b[0m\n\u001b[1;32m      5\u001b[0m \u001b[0;34m\u001b[0m\u001b[0m\n\u001b[0;32m----> 6\u001b[0;31m \u001b[0msecurity_headquarters\u001b[0m\u001b[0;34m[\u001b[0m\u001b[0mlocations_list\u001b[0m\u001b[0;34m]\u001b[0m \u001b[0;34m=\u001b[0m \u001b[0mcustom_etf\u001b[0m\u001b[0;34m\u001b[0m\u001b[0;34m\u001b[0m\u001b[0m\n\u001b[0m",
            "\u001b[0;31mTypeError\u001b[0m: unhashable type: 'list'"
          ]
        }
      ],
      "source": [
        "#list as dictionary key\n",
        "custom_etf = Security('Custom ETF','CUST CN Equity',10, 1000)\n",
        "\n",
        "locations_list = ['Redmond','Cuptertino','Toronto']\n",
        "\n",
        "security_headquarters[locations_list] = custom_etf"
      ]
    },
    {
      "cell_type": "markdown",
      "id": "2bdc20a2-c521-40fa-862a-08a32e730655",
      "metadata": {
        "id": "2bdc20a2-c521-40fa-862a-08a32e730655"
      },
      "source": [
        "Alternatively, what about if we added a list to a set? We will get the same error."
      ]
    },
    {
      "cell_type": "code",
      "execution_count": null,
      "id": "71a03935-f14a-4dad-bedc-d67b4515cc9c",
      "metadata": {
        "colab": {
          "base_uri": "https://localhost:8080/",
          "height": 201
        },
        "id": "71a03935-f14a-4dad-bedc-d67b4515cc9c",
        "outputId": "f2a51959-68f7-463f-bcfb-06dd69a195e2"
      },
      "outputs": [
        {
          "output_type": "error",
          "ename": "TypeError",
          "evalue": "ignored",
          "traceback": [
            "\u001b[0;31m---------------------------------------------------------------------------\u001b[0m",
            "\u001b[0;31mTypeError\u001b[0m                                 Traceback (most recent call last)",
            "\u001b[0;32m<ipython-input-8-f5c9ee62c8a8>\u001b[0m in \u001b[0;36m<module>\u001b[0;34m\u001b[0m\n\u001b[1;32m      1\u001b[0m \u001b[0mset_of_stocks\u001b[0m \u001b[0;34m=\u001b[0m \u001b[0mset\u001b[0m\u001b[0;34m(\u001b[0m\u001b[0;34m)\u001b[0m\u001b[0;34m\u001b[0m\u001b[0;34m\u001b[0m\u001b[0m\n\u001b[1;32m      2\u001b[0m \u001b[0msecurity_list\u001b[0m\u001b[0;34m.\u001b[0m\u001b[0mappend\u001b[0m\u001b[0;34m(\u001b[0m\u001b[0mcustom_etf\u001b[0m\u001b[0;34m)\u001b[0m\u001b[0;34m\u001b[0m\u001b[0;34m\u001b[0m\u001b[0m\n\u001b[0;32m----> 3\u001b[0;31m \u001b[0mset_of_stocks\u001b[0m\u001b[0;34m.\u001b[0m\u001b[0madd\u001b[0m\u001b[0;34m(\u001b[0m\u001b[0msecurity_list\u001b[0m\u001b[0;34m)\u001b[0m\u001b[0;34m\u001b[0m\u001b[0;34m\u001b[0m\u001b[0m\n\u001b[0m",
            "\u001b[0;31mTypeError\u001b[0m: unhashable type: 'list'"
          ]
        }
      ],
      "source": [
        "set_of_stocks = set()\n",
        "security_list.append(custom_etf)\n",
        "set_of_stocks.add(security_list)"
      ]
    },
    {
      "cell_type": "markdown",
      "id": "745d3db9-43cb-423f-916e-49b9e41c3529",
      "metadata": {
        "id": "745d3db9-43cb-423f-916e-49b9e41c3529"
      },
      "source": [
        "__Hashable__\n",
        "\n",
        "Every list, dictionary or set we create is just an object. In Python, an object is said to be unhashable if the object does not have a hash value. But what is a hash value? What is hashing?\n",
        "\n",
        "Hashing is the process of converting some key X into another value Y. A __hash function__ helps generate value Y via a __hash function__, which is done through some mathematical algorithm. The value Y is known as a __hash value__, also known simply as __hash__. Generally, the input is turned into a sequence of fixed length comprised of integers and/or alphabets.\n",
        "\n",
        "The easiest example to explain this process is the creation of a password. When we create a password to login to a website, the password is not stored word for word on the website's database. If it was, it would not be a very good security system, as accounts would be easily compromised in the event that the website gets hacked, or if the database staff simply decided they wanted to have a peek at your account information. Instead, the password is hashed to produce a seemingly random, unreadable sequence that is stored on the server. This way, if the database does get compromised, the hacker (or staff) obtains the hash rather than your password. \n",
        "\n",
        "Python has a standard library called hashlib, which includes some of the known hashing algorithms. Below are examples of hashes produced with the MD5 hash function __md5()__:"
      ]
    },
    {
      "cell_type": "code",
      "execution_count": null,
      "id": "7870affc-0e56-4ce9-8eda-0302a4ad3edb",
      "metadata": {
        "colab": {
          "base_uri": "https://localhost:8080/"
        },
        "id": "7870affc-0e56-4ce9-8eda-0302a4ad3edb",
        "outputId": "5c915dd7-4c20-4dba-9dc2-d3565256cd2b"
      },
      "outputs": [
        {
          "output_type": "stream",
          "name": "stdout",
          "text": [
            "{'md5-sha1', 'sha3_384', 'sha512_256', 'md4', 'sha256', 'blake2b', 'ripemd160', 'sha3_224', 'shake_128', 'sha1', 'blake2s', 'whirlpool', 'sha512', 'sha512_224', 'sm3', 'sha3_256', 'sha384', 'sha3_512', 'shake_256', 'sha224', 'md5'}\n",
            "\n",
            "7d3e3deb50c19e7a3cafc081d9b3f23b is the hash for CFA\n",
            "e8dd9b0a634a9e4d666947ed8daed46c is the hash for cFA\n",
            "59018d5a5d867704f9bfdf7e181b8cbf is the hash for CFA Society\n"
          ]
        }
      ],
      "source": [
        "import hashlib\n",
        "\n",
        "# show hash functions available\n",
        "print(hashlib.algorithms_available)\n",
        "print()\n",
        "\n",
        "#md5\n",
        "hash_val = hashlib.md5(b\"CFA\")\n",
        "print(hash_val.hexdigest(), 'is the hash for CFA')\n",
        "\n",
        "#Small changes matter a lot. By changing one letter of CFA to lowercase, we get a completely different hash sequence\n",
        "hash_val2 = hashlib.md5(b\"cFA\")\n",
        "print(hash_val2.hexdigest(), 'is the hash for cFA')\n",
        "\n",
        "#Notice that increasing the length of the input string produces a hash of the same length\n",
        "hash_val3 = hashlib.md5(b\"CFA Society\")\n",
        "print(hash_val3.hexdigest(), 'is the hash for CFA Society')"
      ]
    },
    {
      "cell_type": "markdown",
      "id": "43a00c9f-d415-46e6-a64f-c1f7956f8fad",
      "metadata": {
        "id": "43a00c9f-d415-46e6-a64f-c1f7956f8fad"
      },
      "source": [
        "For a hash function to be effective in password protection, it has to fulfill certain conditions:\n",
        "\n",
        "* For a given input, it must produce the same hash __every time__. Otherwise, you would type in the correct password and not be able to login because the hash did not match the one in the database.\n",
        "* It must be a one-way function (i.e. not reversible). Otherwise, a hacker can easily reverse the hash and obtain your password. \n",
        "* The hash length must not change. As shown with MD5(), hashing is predicated on passing string of any length through a hash function and producing an output of fixed length. This means two passwords of different lengths still produce hashes of the same length.\n",
        "\n",
        "As such, even if a password leak happens and a cybercriminal obtains all the hashes from a database, a strong hash function can act as the ultimate line of defense, making it difficult for the cybercriminal to derive the password from the hash. The calculations required to reverse a hash to its original input are extremely hard. Even if the cybercriminal is able to figure out what hash function was used, it is generally still faster to take a brute-force approach and feed millions of sequences into the hash function in the hope of producing a matching hash, a highly time-consuming process even for the strongest computers.\n",
        "\n",
        "Sadly, this still does not mean your password is safe. Seasoned cybercriminals are familiar with common hash functions, and can calculate hashes for known words. Weak and common passwords can be broken very easily. All this to say, please do not set your password as 'password'. "
      ]
    },
    {
      "cell_type": "markdown",
      "id": "21a115eb-1579-490e-b064-9740550c231c",
      "metadata": {
        "id": "21a115eb-1579-490e-b064-9740550c231c"
      },
      "source": [
        "__Why Does This Matter In Data Structures?__\n",
        "\n",
        "Hashing has many applications, namely in cryptography and cybersecurity (we just saw a small example of it), and it is also fundamental to data structures in programming. Essentially, a hash becomes a unique index for an element. Writing a good hash function is an art in itself and beyond the scope of this article. Fortunately, Python has a built-in hash function that can be invoked via the __hash__() method. In Python, the important properties of hashing are:\n",
        "\n",
        "* The __hash()__ method only returns a hash for immutable objects\n",
        "* A __hashable object__ is an object whose __hash value__ never changes. \n",
        "* If two hashable objects compare as equal, they must have the same hash value.\n",
        "\n",
        "We can hash objects created from user-defined classes as well. In this case, let us produce the hash for the securities created. Unlike MD5(), the Python hash produces a sequence of integers."
      ]
    },
    {
      "cell_type": "code",
      "execution_count": null,
      "id": "3eb3b70a-4295-4517-8a6f-73f6a04541e2",
      "metadata": {
        "colab": {
          "base_uri": "https://localhost:8080/"
        },
        "id": "3eb3b70a-4295-4517-8a6f-73f6a04541e2",
        "outputId": "b6142fa5-7a9b-4732-e03a-5806b6649d6b"
      },
      "outputs": [
        {
          "output_type": "stream",
          "name": "stdout",
          "text": [
            "msft_stock hash: 8741861339679\n",
            "apple_stock hash: 8741861339673\n",
            "zsp_etf hash: 8741861339676\n"
          ]
        }
      ],
      "source": [
        "print('msft_stock hash:',hash(msft_stock))\n",
        "print('apple_stock hash:',hash(apple_stock))\n",
        "print('zsp_etf hash:',hash(zsp_etf))"
      ]
    },
    {
      "cell_type": "markdown",
      "id": "c53aad75-5bc5-4f76-9b23-ee2c2c858671",
      "metadata": {
        "id": "c53aad75-5bc5-4f76-9b23-ee2c2c858671"
      },
      "source": [
        "__Immutable Objects__\n",
        "\n",
        "Every object in Python is classified as either mutable or immutable or mutable. A mutable object is an object whose state can be modified after it has been defined. By contrast, an immutable object cannot be changed. This applies to both primitive and non-primitive data structures, as well as objects created from user-defined classes.\n",
        "\n",
        "Primitive data types like integer, float, string and boolean are immutable. Conversely, all the non-primitive data structures we just covered are mutable. We saw an earlier example of the \"not hashable\" error when we tried to use a List as a key for a dictionary, and also when we tried to add it to a set. In comparison, the Tuple data structure is immutable, and is highly relied upon as keys in dictionaries when a sequence of numeric values are needed as a key.\n",
        "\n",
        "The mutuable and immutable distinction is critical for data structures like dictionaries and sets. Even though they themselves are not hashable, they still rely heavily on hashing, as hashing allows elements stored in these data structures to be indexed.\n",
        "\n",
        "* In a dictionary, for a key to reliably look up the mapped value, it must be able to discern between two keys. In the previous example, we saw that the adding an entry with an existing key will overwrite the value from a previous entry. As such, the dictionary must without fail recognize if a provided key is \"the same\" as an existing key. This is why a key for a dictionary must be a hashable object.\n",
        "* In a set, the data structure needs to be able to judge whether a new element is a duplicate or not. That is, the set must be able to verify whether an element is \"the same\" when compared to existing elements.\n",
        "\n",
        "In both cases, the hashes of two objects are compared to make this judgment. This brings us to our last discussion, what does it mean for two objects to be equal?"
      ]
    },
    {
      "cell_type": "markdown",
      "id": "5e3b3e07-725c-4989-b3cb-46b3e8ce429e",
      "metadata": {
        "id": "5e3b3e07-725c-4989-b3cb-46b3e8ce429e"
      },
      "source": [
        "__Equality - Is GOOGL Equal to GOOG?__\n",
        "\n",
        "For primitive data types like integers and strings, equality is very easy to evaluate and appears not worthy of another thought. Obviously:\n",
        "* 1 == 1 is True\n",
        "* 'CFA' == 'CFA' is True\n",
        "* 12.00 == 100.00 is False\n",
        "* 'Microsoft' == 'Apple' is False\n",
        "\n",
        "But what about for objects created from user-defined classes. In our example, how do we evaluate whether two Security objects are equal? Consider the below example:\n",
        "\n",
        "Alphabet Inc., the parent company of Google, is a publicly listed company on the Nasdaq exchange. If you have ever taken a look at the top 10 stocks in the S&P 500 Index, however, you will see that there are two classes. \n",
        "\n",
        "![Screen Shot 2023-03-13 at 5.55.41 PM.png](data:image/png;base64,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)\n",
        "\n",
        "Source: S&P Dow Jones Indices as of 28 February, 2023\n",
        "\n",
        "Both Alphabet Class A (GOOGL) and Alphabet Class C (GOOG) give shareholders ownership of the company. GOOGL and GOOG represent equal ownership, but GOOG does not provide voting rights and thus tends to trade at a slight discount. For large shareholders or activist investors who want to influence management decisions in the company, this distinction would matter.\n",
        "\n",
        "However, for smaller investors, this distinction might not be as important. As far as portfolio returns are concerned, GOOGL and GOOG effectively provide the same risk-reward profile, and an investor might only want to know whether they \"own Google\" or not in their portfolios. \n",
        "\n",
        "How is this implemented in Python code? Suppose we create the two securities:"
      ]
    },
    {
      "cell_type": "code",
      "execution_count": null,
      "id": "9718fb18-4adf-4b5b-814c-e316154e6de5",
      "metadata": {
        "colab": {
          "base_uri": "https://localhost:8080/"
        },
        "id": "9718fb18-4adf-4b5b-814c-e316154e6de5",
        "outputId": "56a7435a-5c9a-4315-dc6a-efb75f409efd"
      },
      "outputs": [
        {
          "output_type": "stream",
          "name": "stdout",
          "text": [
            "False\n"
          ]
        }
      ],
      "source": [
        "google_stock_a = Security('Alphabet Inc', 'GOOGL US Equity', 90.1, 5000000)\n",
        "google_stock_c = Security('Alphabet Inc', 'GOOG US Equity', 90, 5000000)\n",
        "\n",
        "print(google_stock_a == google_stock_c)"
      ]
    },
    {
      "cell_type": "markdown",
      "id": "a0b09020-c545-443e-8417-d588f0633f45",
      "metadata": {
        "id": "a0b09020-c545-443e-8417-d588f0633f45"
      },
      "source": [
        "From above, Python concludes that the two objects google_stock_a and google_stock_c are not equal, which is intuitively correct because the securities have different tickers and different prices. If we check the hash of google_stock_a and google_stock_c, we will see that they are different."
      ]
    },
    {
      "cell_type": "code",
      "execution_count": null,
      "id": "08c5bbed-1992-4236-a296-50968b0e4693",
      "metadata": {
        "colab": {
          "base_uri": "https://localhost:8080/"
        },
        "id": "08c5bbed-1992-4236-a296-50968b0e4693",
        "outputId": "e78b5edc-cea8-4072-d3b4-17863112b4e2"
      },
      "outputs": [
        {
          "output_type": "stream",
          "name": "stdout",
          "text": [
            "8741861339633\n",
            "8741861339456\n"
          ]
        }
      ],
      "source": [
        "print(hash(google_stock_a))\n",
        "print(hash(google_stock_c))"
      ]
    },
    {
      "cell_type": "markdown",
      "id": "7546fd46-3aa7-47f5-bbde-2a92aa93342c",
      "metadata": {
        "id": "7546fd46-3aa7-47f5-bbde-2a92aa93342c"
      },
      "source": [
        "For our purposes, however, this can be problematic if we want to limit individual security weight to some threshold, but the program fails to conclude that GOOGL and GOOG are shares of the same company. \n",
        "\n",
        "To illustrate, let's say we add google_stock_a to our previously defined security_set. To track whether we already own a security, we rely on the set's ability to only include non-duplicate elements so as to reject repeated additions. However, if we add google_stock_c, we will end up including Google twice because the set thinks it is a different security, and we end up with more Google than we want in the portfolio."
      ]
    },
    {
      "cell_type": "code",
      "execution_count": null,
      "id": "66e4a4fb-daa0-487a-b5a2-f0dc0b3d3162",
      "metadata": {
        "colab": {
          "base_uri": "https://localhost:8080/"
        },
        "id": "66e4a4fb-daa0-487a-b5a2-f0dc0b3d3162",
        "outputId": "c01fd59c-a93a-419e-f9cb-01596ad4f14b"
      },
      "outputs": [
        {
          "output_type": "stream",
          "name": "stdout",
          "text": [
            "Alphabet Inc\n",
            "Alphabet Inc\n",
            "Apple Inc\n",
            "BMO S&P 500 Index ETF\n",
            "Microsoft Corp\n"
          ]
        }
      ],
      "source": [
        "security_set.add(google_stock_a)\n",
        "\n",
        "security_set.add(google_stock_c)\n",
        "\n",
        "for security in security_set:\n",
        "    print(security)"
      ]
    },
    {
      "cell_type": "markdown",
      "id": "2ae1d0f8-eeb0-409a-bc03-ba67e032cc54",
      "metadata": {
        "id": "2ae1d0f8-eeb0-409a-bc03-ba67e032cc54"
      },
      "source": [
        "To let the program know that we want to treat all securities with the name \"Alphabet Inc\" as the same security, we need to __redefine (override)__ what it means for two objects of the Security class to be equal. (Actually, with regards to distinguishing the two in a set, it is enough to just override the __hash()__ method and not override the __eq()__ method. This is because two objects with the same hash does not necessarily have to be equal, but two equal objects MUST have the same hash. To make things less confusing, we will simply go through the whole process starting with __eq()__).\n",
        "\n",
        "In Python, the equals method is denoted by __eq()__ in the constructor. Remember from Introduction To Object-Oriented Programming In Python that we can redefine (override) a method by simply adding a method with the same name. Going back to our Security class definition:"
      ]
    },
    {
      "cell_type": "code",
      "execution_count": null,
      "id": "87741790-e651-4082-b38a-fc5098982e2b",
      "metadata": {
        "id": "87741790-e651-4082-b38a-fc5098982e2b"
      },
      "outputs": [],
      "source": [
        "class Security(object):\n",
        "    def __init__(self, name, ticker, price, shares_outstanding):\n",
        "        self.name = name\n",
        "        self.ticker = ticker\n",
        "        self.price = price\n",
        "        self.shares_outstanding = shares_outstanding\n",
        "    \n",
        "    def __str__(self):\n",
        "        return self.name\n",
        "    \n",
        "    def __repr__(self):\n",
        "        return self.name\n",
        "    \n",
        "    def __eq__(self, other):\n",
        "        return isinstance(other, Security) and self.name == other.name"
      ]
    },
    {
      "cell_type": "markdown",
      "id": "c4271441-91f6-4c9c-b023-964fae0cadb8",
      "metadata": {
        "id": "c4271441-91f6-4c9c-b023-964fae0cadb8"
      },
      "source": [
        "In the __eq()__ method, we return True (i.e. the objects are equal) only if:\n",
        "\n",
        "1.   The object2 being compared against object1 is also an instance of Security.\n",
        "2.   The name attribute of the object2 (which is a string) is equal to the name attribute of object1.\n",
        "\n",
        "In this case, we know google_stock_a and google_stock_c are both instances of the class Security. We also know that they both share the same \"name\" attribute, namely \"Alphabet Inc\". As seen below, the line __google_stock_a == google_stock_c__ will now return true, and we can use this boolean expression for other conditional comparisons."
      ]
    },
    {
      "cell_type": "code",
      "execution_count": null,
      "id": "c2762b54-b80e-4a36-8ba5-b1588c75836b",
      "metadata": {
        "colab": {
          "base_uri": "https://localhost:8080/"
        },
        "id": "c2762b54-b80e-4a36-8ba5-b1588c75836b",
        "outputId": "30636fbf-71a8-4fc4-e71e-ac9358ddca3f"
      },
      "outputs": [
        {
          "output_type": "stream",
          "name": "stdout",
          "text": [
            "True\n"
          ]
        }
      ],
      "source": [
        "google_stock_a = Security('Alphabet Inc', 'GOOGL US Equity', 90.1, 5000000)\n",
        "google_stock_c = Security('Alphabet Inc', 'GOOG US Equity', 90, 5000000)\n",
        "\n",
        "print(google_stock_a == google_stock_c)"
      ]
    },
    {
      "cell_type": "markdown",
      "id": "8897c46b-e23d-4cb0-a8aa-6bfa604866bf",
      "metadata": {
        "id": "8897c46b-e23d-4cb0-a8aa-6bfa604866bf"
      },
      "source": [
        "However, we will now run into a new problem -- because we redefined the __eq()__ method but did not also redefine the __hash()__ method, if we try adding the securities to a set, we will run into yet another unhashable type error, this time for the Security class."
      ]
    },
    {
      "cell_type": "code",
      "execution_count": null,
      "id": "b13b179d-eed4-48ab-94df-61f91db16981",
      "metadata": {
        "colab": {
          "base_uri": "https://localhost:8080/",
          "height": 166
        },
        "id": "b13b179d-eed4-48ab-94df-61f91db16981",
        "outputId": "efcce2c3-fc51-430d-cbae-645186143352"
      },
      "outputs": [
        {
          "output_type": "error",
          "ename": "TypeError",
          "evalue": "ignored",
          "traceback": [
            "\u001b[0;31m---------------------------------------------------------------------------\u001b[0m",
            "\u001b[0;31mTypeError\u001b[0m                                 Traceback (most recent call last)",
            "\u001b[0;32m<ipython-input-17-495301c272b8>\u001b[0m in \u001b[0;36m<module>\u001b[0;34m\u001b[0m\n\u001b[0;32m----> 1\u001b[0;31m \u001b[0msecurity_set\u001b[0m\u001b[0;34m.\u001b[0m\u001b[0madd\u001b[0m\u001b[0;34m(\u001b[0m\u001b[0mgoogle_stock_a\u001b[0m\u001b[0;34m)\u001b[0m\u001b[0;34m\u001b[0m\u001b[0;34m\u001b[0m\u001b[0m\n\u001b[0m",
            "\u001b[0;31mTypeError\u001b[0m: unhashable type: 'Security'"
          ]
        }
      ],
      "source": [
        "security_set.add(google_stock_a)"
      ]
    },
    {
      "cell_type": "markdown",
      "id": "75d63450-aee8-4c79-ac88-709e36bbee09",
      "metadata": {
        "id": "75d63450-aee8-4c79-ac88-709e36bbee09"
      },
      "source": [
        "Recall one of the core rules for hashing in Python:\n",
        "\n",
        "* If two hashable objects compare as equal, they must have the same hash value.\n",
        "\n",
        "As such, we also need to redefine (override) the hash method. As we ourselves defined two stocks to both be of the same company if they share the same name, regardless of ticker or price, we will implement it accordingly in the hash method, where we simply return the hash of self.name.\n",
        "\n",
        "As self.name is a string, we know both hashes of the same name will return the same hash. Thus, this completes the override."
      ]
    },
    {
      "cell_type": "code",
      "execution_count": null,
      "id": "43408777-ab18-427d-b47c-376a2327e6ea",
      "metadata": {
        "id": "43408777-ab18-427d-b47c-376a2327e6ea"
      },
      "outputs": [],
      "source": [
        "class Security(object):\n",
        "    def __init__(self, name, ticker, price, shares_outstanding):\n",
        "        self.name = name\n",
        "        self.ticker = ticker\n",
        "        self.price = price\n",
        "        self.shares_outstanding = shares_outstanding\n",
        "    \n",
        "    def __str__(self):\n",
        "        return self.name\n",
        "    \n",
        "    def __repr__(self):\n",
        "        return self.name\n",
        "    \n",
        "    def __eq__(self, other):\n",
        "        return isinstance(other, Security) and self.name == other.name\n",
        "    \n",
        "    def __hash__(self):\n",
        "        return hash(self.name)"
      ]
    },
    {
      "cell_type": "code",
      "execution_count": null,
      "id": "8b743715-d580-43f3-b789-f66e26a7d471",
      "metadata": {
        "colab": {
          "base_uri": "https://localhost:8080/"
        },
        "id": "8b743715-d580-43f3-b789-f66e26a7d471",
        "outputId": "3b34a739-7f0e-4551-9326-d37912554d66"
      },
      "outputs": [
        {
          "output_type": "stream",
          "name": "stdout",
          "text": [
            "True\n",
            "7249468942858777719\n",
            "7249468942858777719\n"
          ]
        }
      ],
      "source": [
        "google_stock_a = Security('Alphabet Inc', 'GOOGL US Equity', 90.1, 5000000)\n",
        "google_stock_c = Security('Alphabet Inc', 'GOOG US Equity', 90, 5000000)\n",
        "\n",
        "print(google_stock_a == google_stock_c)\n",
        "print(hash(google_stock_a))\n",
        "print(hash(google_stock_c))"
      ]
    },
    {
      "cell_type": "markdown",
      "id": "ba7c7dbb-d457-4514-9c64-e031e40f17c4",
      "metadata": {
        "id": "ba7c7dbb-d457-4514-9c64-e031e40f17c4"
      },
      "source": [
        "With the hash method override also implemented, now we can be sure objects created from the Security class will compare as we intended. As we can see below, a set will be able to successfully reject \"duplicates\". We create a new set __security_set2__ and add both google_stock_a and google_stock_c to it, but the set correctly rejects the second addition because it now recognizes that they are the same stock, leaving only google_stock_a in the set. Now, we know we will not end up buying more Google stocks than we wanted!"
      ]
    },
    {
      "cell_type": "code",
      "execution_count": null,
      "id": "57aeb529-71a6-4525-835d-e5c38b2cbfa4",
      "metadata": {
        "colab": {
          "base_uri": "https://localhost:8080/"
        },
        "id": "57aeb529-71a6-4525-835d-e5c38b2cbfa4",
        "outputId": "dd25a8c5-26b9-4ee6-9af0-aedf52b6dfd7"
      },
      "outputs": [
        {
          "output_type": "stream",
          "name": "stdout",
          "text": [
            "Set size: 1\n",
            "Alphabet Inc , GOOGL US Equity\n"
          ]
        }
      ],
      "source": [
        "security_set2 = set()\n",
        "\n",
        "security_set2.add(google_stock_a)\n",
        "security_set2.add(google_stock_c)\n",
        "\n",
        "print(\"Set size:\",len(security_set2))\n",
        "\n",
        "for security in security_set2:\n",
        "    print(security, ',', security.ticker)"
      ]
    },
    {
      "cell_type": "markdown",
      "id": "0c81eb44-90a7-46bf-a1b2-6db5cb01d2d4",
      "metadata": {
        "id": "0c81eb44-90a7-46bf-a1b2-6db5cb01d2d4"
      },
      "source": [
        "__Conclusion__\n",
        "\n",
        "This writeup introduces the basic mechanics of hashing, a mathematical algorithm that often works behind the scenes but is in fact critical to OOP and programming. We also explored the concept of object equality, as well as how some of the most ubiquitous data structures in Python rely on hashing. Hashing also plays a crucial role in the lives of billions of non-programmers, and is applied in everything from password verification, cryptography, search algorithms and blockchain. This humble process of transforming a given string of arbitrary length into another string of fixed length contributes far more to our lives than meets the eye! "
      ]
    },
    {
      "cell_type": "markdown",
      "id": "fdb47cd1-a917-4ec6-9465-67eaf3edc8ab",
      "metadata": {
        "id": "fdb47cd1-a917-4ec6-9465-67eaf3edc8ab"
      },
      "source": [
        "Winfred Lam, CFA, is a Senior Product Manager at BMO Global Asset Management and a graduate student in computer science at the University of Pennsylvania. He is a volunteer member of CFA Society Toronto’s Member Communication Committee."
      ]
    }
  ],
  "metadata": {
    "kernelspec": {
      "display_name": "Python 3 (ipykernel)",
      "language": "python",
      "name": "python3"
    },
    "language_info": {
      "codemirror_mode": {
        "name": "ipython",
        "version": 3
      },
      "file_extension": ".py",
      "mimetype": "text/x-python",
      "name": "python",
      "nbconvert_exporter": "python",
      "pygments_lexer": "ipython3",
      "version": "3.8.15"
    },
    "colab": {
      "provenance": []
    }
  },
  "nbformat": 4,
  "nbformat_minor": 5
}